{
  "cells": [
    {
      "cell_type": "markdown",
      "metadata": {
        "id": "view-in-github",
        "colab_type": "text"
      },
      "source": [
        "<a href=\"https://colab.research.google.com/github/Swarno-Coder/DeeplearningAI_tf_practices/blob/main/assignments/C1W2_Assignment.ipynb\" target=\"_parent\"><img src=\"https://colab.research.google.com/assets/colab-badge.svg\" alt=\"Open In Colab\"/></a>"
      ]
    },
    {
      "cell_type": "markdown",
      "metadata": {
        "id": "_2s0EJ5Fy4u2"
      },
      "source": [
        "# Week 2: Implementing Callbacks in TensorFlow using the MNIST Dataset\n",
        "\n",
        "In the course you learned how to do classification using Fashion MNIST, a data set containing items of clothing. There's another, similar dataset called MNIST which has items of handwriting -- the digits 0 through 9.\n",
        "\n",
        "Write an MNIST classifier that trains to 99% accuracy and stops once this threshold is achieved. In the lecture you saw how this was done for the loss but here you will be using accuracy instead.\n",
        "\n",
        "Some notes:\n",
        "1. Your network should succeed in less than 9 epochs.\n",
        "2. When it reaches 99% or greater it should print out the string \"Reached 99% accuracy so cancelling training!\" and stop training.\n",
        "3. If you add any additional variables, make sure you use the same names as the ones used in the class. This is important for the function signatures (the parameters and names) of the callbacks."
      ]
    },
    {
      "cell_type": "code",
      "execution_count": 1,
      "metadata": {
        "tags": [
          "graded"
        ],
        "id": "34Zyp86BZ9zU"
      },
      "outputs": [],
      "source": [
        "import os\n",
        "import tensorflow as tf\n",
        "from tensorflow import keras"
      ]
    },
    {
      "cell_type": "markdown",
      "metadata": {
        "id": "agtF8L00Z9zX"
      },
      "source": [
        "## Load and inspect the data\n",
        "\n",
        "Begin by loading the data. A couple of things to notice:\n",
        "\n",
        "- The file `mnist.npz` is already included in the current workspace under the `data` directory. By default the `load_data` from Keras accepts a path relative to `~/.keras/datasets` but in this case it is stored somewhere else, as a result of this, you need to specify the full path.\n",
        "\n",
        "- `load_data` returns the train and test sets in the form of the tuples `(x_train, y_train), (x_test, y_test)` but in this exercise you will be needing only the train set so you can ignore the second tuple."
      ]
    },
    {
      "cell_type": "code",
      "execution_count": 2,
      "metadata": {
        "tags": [
          "graded"
        ],
        "colab": {
          "base_uri": "https://localhost:8080/"
        },
        "id": "7BU6R20JZ9zX",
        "outputId": "06ecb78b-5a32-43dd-9e60-6ec0f50690dc"
      },
      "outputs": [
        {
          "output_type": "stream",
          "name": "stdout",
          "text": [
            "Downloading data from https://storage.googleapis.com/tensorflow/tf-keras-datasets/mnist.npz\n",
            "11490434/11490434 [==============================] - 0s 0us/step\n"
          ]
        }
      ],
      "source": [
        "# Load the data\n",
        "\n",
        "# Get current working directory\n",
        "current_dir = os.getcwd()\n",
        "\n",
        "# Append data/mnist.npz to the previous path to get the full path\n",
        "data_path = os.path.join(current_dir, \"data/mnist.npz\")\n",
        "\n",
        "# Discard test set\n",
        "(x_train, y_train), _ = tf.keras.datasets.mnist.load_data()\n",
        "        \n",
        "# Normalize pixel values\n",
        "x_train = x_train / 255.0"
      ]
    },
    {
      "cell_type": "markdown",
      "metadata": {
        "id": "_4P9mHaHZ9zY"
      },
      "source": [
        "Now take a look at the shape of the training data:"
      ]
    },
    {
      "cell_type": "code",
      "execution_count": 3,
      "metadata": {
        "tags": [
          "graded"
        ],
        "colab": {
          "base_uri": "https://localhost:8080/"
        },
        "id": "3IbDKA3pZ9zZ",
        "outputId": "913c1425-f0a1-4f0c-b192-e5e99bb7e2cb"
      },
      "outputs": [
        {
          "output_type": "stream",
          "name": "stdout",
          "text": [
            "There are 60000 examples with shape (28, 28)\n"
          ]
        }
      ],
      "source": [
        "data_shape = x_train.shape\n",
        "\n",
        "print(f\"There are {data_shape[0]} examples with shape ({data_shape[1]}, {data_shape[2]})\")"
      ]
    },
    {
      "cell_type": "markdown",
      "metadata": {
        "id": "UIdcr3rdZ9za"
      },
      "source": [
        "## Defining your callback\n",
        "\n",
        "Now it is time to create your own custom callback. For this complete the `myCallback` class and the `on_epoch_end` method in the cell below. If you need some guidance on how to proceed, check out this [link](https://www.tensorflow.org/guide/keras/custom_callback)."
      ]
    },
    {
      "cell_type": "code",
      "execution_count": 4,
      "metadata": {
        "tags": [
          "graded"
        ],
        "id": "OG1AqdXMZ9zb"
      },
      "outputs": [],
      "source": [
        "# GRADED CLASS: myCallback\n",
        "### START CODE HERE\n",
        "\n",
        "# Remember to inherit from the correct class\n",
        "\n",
        "class myCallback(tf.keras.callbacks.Callback):\n",
        "        # Define the correct function signature for on_epoch_end\n",
        "      def on_epoch_end(self, epochs, logs={}):\n",
        "          if logs.get('accuracy') is not None and logs.get('accuracy') > 0.99:\n",
        "              print(\"\\nReached 99% accuracy so cancelling training!\")\n",
        "              # Stop training once the above condition is met\n",
        "              self.model.stop_training = True\n",
        "\n",
        "### END CODE HERE\n"
      ]
    },
    {
      "cell_type": "markdown",
      "metadata": {
        "id": "7Vz1_JbhZ9zc"
      },
      "source": [
        "## Create and train your model\n",
        "\n",
        "Now that you have defined your callback it is time to complete the `train_mnist` function below. \n",
        "\n",
        "**You must set your model to train for 10 epochs and the callback should fire before the 9th epoch for you to pass this assignment.**\n",
        "\n",
        "**Hint:**\n",
        "- Feel free to try the architecture for the neural network that you see fit but in case you need extra help you can check out an architecture that works pretty well at the end of this notebook."
      ]
    },
    {
      "cell_type": "code",
      "execution_count": 5,
      "metadata": {
        "id": "rEHcB3kqyHZ6",
        "tags": [
          "graded"
        ]
      },
      "outputs": [],
      "source": [
        "from keras.activations import sigmoid\n",
        "from keras.layers.serialization import activation\n",
        "# GRADED FUNCTION: train_mnist\n",
        "def train_mnist(x_train, y_train):\n",
        "\n",
        "    ### START CODE HERE\n",
        "    \n",
        "    # Instantiate the callback class\n",
        "    callbacks = myCallback()\n",
        "    \n",
        "    # Define the model\n",
        "    model = tf.keras.models.Sequential([ \n",
        "        tf.keras.layers.Flatten(),\n",
        "        tf.keras.layers.Dense(512, activation=tf.nn.relu),\n",
        "        tf.keras.layers.Dense(1024, activation=tf.nn.sigmoid),\n",
        "        tf.keras.layers.Dense(512, activation=tf.nn.relu),\n",
        "        tf.keras.layers.Dense(10, activation=tf.nn.softmax)\n",
        "    ]) \n",
        "\n",
        "    # Compile the model\n",
        "    model.compile(optimizer='adam', \n",
        "                  loss='sparse_categorical_crossentropy', \n",
        "                  metrics=['accuracy']) \n",
        "    \n",
        "    # Fit the model for 10 epochs adding the callbacks\n",
        "    # and save the training history\n",
        "    history = model.fit(x_train, y_train, epochs=10, callbacks=[callbacks\n",
        "                              ])\n",
        "\n",
        "    ### END CODE HERE\n",
        "\n",
        "    return history"
      ]
    },
    {
      "cell_type": "markdown",
      "metadata": {
        "id": "FSgRCr1mZ9zd"
      },
      "source": [
        "Call the `train_mnist` passing in the appropiate parameters to get the training history:"
      ]
    },
    {
      "cell_type": "code",
      "execution_count": 6,
      "metadata": {
        "id": "sFgpwbGly4u4",
        "tags": [
          "graded"
        ],
        "colab": {
          "base_uri": "https://localhost:8080/"
        },
        "outputId": "319870f3-62e1-4b64-d596-6f0b754c81d0"
      },
      "outputs": [
        {
          "output_type": "stream",
          "name": "stdout",
          "text": [
            "Epoch 1/10\n",
            "1875/1875 [==============================] - 55s 28ms/step - loss: 0.2299 - accuracy: 0.9286\n",
            "Epoch 2/10\n",
            "1875/1875 [==============================] - 57s 30ms/step - loss: 0.0910 - accuracy: 0.9723\n",
            "Epoch 3/10\n",
            "1875/1875 [==============================] - 55s 29ms/step - loss: 0.0636 - accuracy: 0.9798\n",
            "Epoch 4/10\n",
            "1875/1875 [==============================] - 54s 29ms/step - loss: 0.0484 - accuracy: 0.9846\n",
            "Epoch 5/10\n",
            "1875/1875 [==============================] - 54s 29ms/step - loss: 0.0384 - accuracy: 0.9877\n",
            "Epoch 6/10\n",
            "1875/1875 [==============================] - 54s 29ms/step - loss: 0.0318 - accuracy: 0.9899\n",
            "Epoch 7/10\n",
            "1874/1875 [============================>.] - ETA: 0s - loss: 0.0267 - accuracy: 0.9916\n",
            "Reached 99% accuracy so cancelling training!\n",
            "1875/1875 [==============================] - 52s 28ms/step - loss: 0.0267 - accuracy: 0.9916\n",
            "Epoch 8/10\n",
            "1875/1875 [==============================] - ETA: 0s - loss: 0.0222 - accuracy: 0.9929\n",
            "Reached 99% accuracy so cancelling training!\n",
            "1875/1875 [==============================] - 52s 28ms/step - loss: 0.0222 - accuracy: 0.9929\n",
            "Epoch 9/10\n",
            "1875/1875 [==============================] - ETA: 0s - loss: 0.0221 - accuracy: 0.9933\n",
            "Reached 99% accuracy so cancelling training!\n",
            "1875/1875 [==============================] - 57s 30ms/step - loss: 0.0221 - accuracy: 0.9933\n",
            "Epoch 10/10\n",
            "1874/1875 [============================>.] - ETA: 0s - loss: 0.0173 - accuracy: 0.9947\n",
            "Reached 99% accuracy so cancelling training!\n",
            "1875/1875 [==============================] - 53s 29ms/step - loss: 0.0174 - accuracy: 0.9947\n"
          ]
        }
      ],
      "source": [
        "hist = train_mnist(x_train, y_train)"
      ]
    },
    {
      "cell_type": "markdown",
      "metadata": {
        "id": "lzkjezJJZ9ze"
      },
      "source": [
        "If you see the message `Reached 99% accuracy so cancelling training!` printed out after less than 9 epochs it means your callback worked as expected. "
      ]
    },
    {
      "cell_type": "markdown",
      "metadata": {
        "id": "kCz1eh8ZZ9ze"
      },
      "source": [
        "## Need more help?\n",
        "\n",
        "Run the following cell to see an architecture that works well for the problem at hand:"
      ]
    },
    {
      "cell_type": "code",
      "execution_count": 21,
      "metadata": {
        "colab": {
          "base_uri": "https://localhost:8080/"
        },
        "id": "ZOej9CPGZ9zf",
        "outputId": "4f5d9c62-e686-4b03-e551-da8f3c698e96"
      },
      "outputs": [
        {
          "output_type": "stream",
          "name": "stdout",
          "text": [
            "b'CiAgIC0gQSBGbGF0dGVuIGxheWVyIHRoYXQgcmVjZWl2ZXMgaW5wdXRzIHdpdGggdGhlIHNhbWUgc2hhcGUgYXMgdGhlIGltYWdlcwogICAtIEEgRGVuc2UgbGF5ZXIgd2l0aCA1MTIgdW5pdHMgYW5kIFJlTFUgYWN0aXZhdGlvbiBmdW5jdGlvbgogICAtIEEgRGVuc2UgbGF5ZXIgd2l0aCAxMCB1bml0cyBhbmQgc29mdG1heCBhY3RpdmF0aW9uIGZ1bmN0aW9uCg==' \n",
            "   - A Flatten layer that receives inputs with the same shape as the images\n",
            "   - A Dense layer with 512 units and ReLU activation function\n",
            "   - A Dense layer with 10 units and softmax activation function\n",
            "\n"
          ]
        }
      ],
      "source": [
        "# WE STRONGLY RECOMMEND YOU TO TRY YOUR OWN ARCHITECTURES FIRST\n",
        "# AND ONLY RUN THIS CELL IF YOU WISH TO SEE AN ANSWER\n",
        "\n",
        "import base64\n",
        "\n",
        "encoded_answer = \"CiAgIC0gQSBGbGF0dGVuIGxheWVyIHRoYXQgcmVjZWl2ZXMgaW5wdXRzIHdpdGggdGhlIHNhbWUgc2hhcGUgYXMgdGhlIGltYWdlcwogICAtIEEgRGVuc2UgbGF5ZXIgd2l0aCA1MTIgdW5pdHMgYW5kIFJlTFUgYWN0aXZhdGlvbiBmdW5jdGlvbgogICAtIEEgRGVuc2UgbGF5ZXIgd2l0aCAxMCB1bml0cyBhbmQgc29mdG1heCBhY3RpdmF0aW9uIGZ1bmN0aW9uCg==\"\n",
        "encoded_answer = encoded_answer.encode('ascii')\n",
        "answer = base64.b64decode(encoded_answer)\n",
        "answer = answer.decode('ascii')\n",
        "\n",
        "print(encoded_answer,answer)"
      ]
    },
    {
      "cell_type": "markdown",
      "metadata": {
        "id": "LI3e_T9oZ9zf"
      },
      "source": [
        "**Congratulations on finishing this week's assignment!**\n",
        "\n",
        "You have successfully implemented a callback that gives you more control over the training loop for your model. Nice job!\n",
        "\n",
        "**Keep it up!**"
      ]
    }
  ],
  "metadata": {
    "jupytext": {
      "main_language": "python"
    },
    "kernelspec": {
      "display_name": "Python 3",
      "language": "python",
      "name": "python3"
    },
    "language_info": {
      "codemirror_mode": {
        "name": "ipython",
        "version": 3
      },
      "file_extension": ".py",
      "mimetype": "text/x-python",
      "name": "python",
      "nbconvert_exporter": "python",
      "pygments_lexer": "ipython3",
      "version": "3.8.8"
    },
    "colab": {
      "provenance": [],
      "include_colab_link": true
    }
  },
  "nbformat": 4,
  "nbformat_minor": 0
}